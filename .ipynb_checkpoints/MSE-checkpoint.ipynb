{
 "cells": [
  {
   "cell_type": "code",
   "execution_count": 12,
   "metadata": {},
   "outputs": [
    {
     "name": "stdout",
     "output_type": "stream",
     "text": [
      "공부시간 = 2, 실제점수 = 81, 예측점수 = 82\n",
      "공부시간 = 4, 실제점수 = 93, 예측점수 = 88\n",
      "공부시간 = 6, 실제점수 = 91, 예측점수 = 94\n",
      "공부시간 = 8, 실제점수 = 97, 예측점수 = 100\n",
      "[ 82  88  94 100]\n",
      "[81 93 91 97]\n",
      "11.0\n",
      "mse 최종값 : 11.0\n"
     ]
    }
   ],
   "source": [
    "import numpy as np\n",
    "fake_a_b = [3,76]\n",
    "\n",
    "data = [[2,81],[4,93],[6,91],[8,97]]\n",
    "x = [i[0] for i in data]\n",
    "y = [i[1] for i in data]\n",
    "\n",
    "def predict(x) :\n",
    "    return fake_a_b[0]*x + fake_a_b[1]\n",
    "\n",
    "def mse(y_hat,y) :\n",
    "    \n",
    "    #y_hat으로 predict_result가 numpy array 형으로 한방에 들어옴\n",
    "    #y로 실제 y배열이 numpy array형으로 들어옴\n",
    "    \n",
    "    #넘파이는 연산하면 알아서 벡터연산을 해준다.\n",
    "    print(((y_hat-y)**2).mean())\n",
    "    return ((y_hat-y)**2).mean()\n",
    "\n",
    "def mse_val(predict_result,y) :\n",
    "    print(np.array(predict_result))\n",
    "    print(np.array(y))\n",
    "    return mse(np.array(predict_result),np.array(y))\n",
    "\n",
    "predict_result = []\n",
    "\n",
    "for i in range(len(x)) :\n",
    "    predict_result.append(predict(x[i]))\n",
    "    print(\"공부시간 = {}, 실제점수 = {}, 예측점수 = {}\".format(x[i],y[i],predict(x[i])))\n",
    "    \n",
    "\n",
    "#이제 이 mse를 가장 작게 하도록 하면 된다.\n",
    "print(\"mse 최종값 : \" + str(mse_val(predict_result,y)))"
   ]
  }
 ],
 "metadata": {
  "celltoolbar": "Raw Cell Format",
  "kernelspec": {
   "display_name": "Python 3",
   "language": "python",
   "name": "python3"
  },
  "language_info": {
   "codemirror_mode": {
    "name": "ipython",
    "version": 3
   },
   "file_extension": ".py",
   "mimetype": "text/x-python",
   "name": "python",
   "nbconvert_exporter": "python",
   "pygments_lexer": "ipython3",
   "version": "3.7.6"
  }
 },
 "nbformat": 4,
 "nbformat_minor": 4
}
